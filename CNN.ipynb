{
  "nbformat": 4,
  "nbformat_minor": 0,
  "metadata": {
    "colab": {
      "name": "CNN.ipynb",
      "provenance": [],
      "collapsed_sections": [],
      "authorship_tag": "ABX9TyNW2Js8+gCMuepsiRRdYXxY",
      "include_colab_link": true
    },
    "kernelspec": {
      "name": "python3",
      "display_name": "Python 3"
    },
    "accelerator": "GPU"
  },
  "cells": [
    {
      "cell_type": "markdown",
      "metadata": {
        "id": "view-in-github",
        "colab_type": "text"
      },
      "source": [
        "<a href=\"https://colab.research.google.com/github/harshit57709/Hack3.0/blob/master/CNN.ipynb\" target=\"_parent\"><img src=\"https://colab.research.google.com/assets/colab-badge.svg\" alt=\"Open In Colab\"/></a>"
      ]
    },
    {
      "cell_type": "code",
      "metadata": {
        "id": "wuIwpBrjNIbO",
        "colab_type": "code",
        "colab": {}
      },
      "source": [
        "# 'https://encrypted-tbn0.gstatic.com/images?q=tbn:ANd9GcST8KzXHtkSHcxzdpnllMhAj0upLEwnNFdtY6j4YUPcmaf4Ty3u'"
      ],
      "execution_count": 0,
      "outputs": []
    },
    {
      "cell_type": "code",
      "metadata": {
        "id": "A6QlGzqYNgJ3",
        "colab_type": "code",
        "colab": {}
      },
      "source": [
        "import numpy as np\n",
        "import matplotlib.pyplot as plt\n",
        "import keras\n",
        "from keras.datasets import mnist\n",
        "from keras.models import Sequential\n",
        "from keras.layers import Dense\n",
        "from keras.optimizers import Adam\n",
        "from keras.utils.np_utils import to_categorical\n",
        "from keras.models import Model\n",
        "from keras.layers import Flatten\n",
        "from keras.layers.convolutional import Conv2D\n",
        "from keras.layers.convolutional import MaxPooling2D\n",
        "from keras.layers import Dropout\n",
        "import random"
      ],
      "execution_count": 0,
      "outputs": []
    },
    {
      "cell_type": "code",
      "metadata": {
        "id": "Dr47H5ouN7DZ",
        "colab_type": "code",
        "colab": {}
      },
      "source": [
        "np.random.seed(0)"
      ],
      "execution_count": 0,
      "outputs": []
    },
    {
      "cell_type": "code",
      "metadata": {
        "id": "eFkJO_RNN_1E",
        "colab_type": "code",
        "colab": {}
      },
      "source": [
        "(X_train, y_train), (X_test, y_test) = mnist.load_data()\n",
        " \n",
        "\n",
        "\n",
        "\n"
      ],
      "execution_count": 0,
      "outputs": []
    },
    {
      "cell_type": "code",
      "metadata": {
        "id": "io8idhccOc4o",
        "colab_type": "code",
        "colab": {}
      },
      "source": [
        ""
      ],
      "execution_count": 0,
      "outputs": []
    },
    {
      "cell_type": "code",
      "metadata": {
        "id": "DVrUAcALOSBL",
        "colab_type": "code",
        "outputId": "56a531ef-805a-41ba-fc2a-3627e7f6ecd8",
        "colab": {
          "base_uri": "https://localhost:8080/",
          "height": 50
        }
      },
      "source": [
        "print(X_train.shape)\n",
        "print(X_test.shape)"
      ],
      "execution_count": 0,
      "outputs": [
        {
          "output_type": "stream",
          "text": [
            "(60000, 28, 28)\n",
            "(10000, 28, 28)\n"
          ],
          "name": "stdout"
        }
      ]
    },
    {
      "cell_type": "code",
      "metadata": {
        "id": "NIeGCU52Odys",
        "colab_type": "code",
        "colab": {}
      },
      "source": [
        ""
      ],
      "execution_count": 0,
      "outputs": []
    },
    {
      "cell_type": "code",
      "metadata": {
        "id": "jVcIh2jPOZ_b",
        "colab_type": "code",
        "colab": {}
      },
      "source": [
        "assert(X_train.shape[0] == y_train.shape[0]), \"The number of images is not equal to the number of labels.\"\n",
        "assert(X_test.shape[0] == y_test.shape[0]), \"The number of images is not equal to the number of labels.\"\n",
        "assert(X_train.shape[1:] == (28,28)), \"The dimensions of the images are not 28x28\"\n",
        "assert(X_test.shape[1:] == (28,28)), \"The dimensions of the images are not 28x28\""
      ],
      "execution_count": 0,
      "outputs": []
    },
    {
      "cell_type": "code",
      "metadata": {
        "id": "SOPR6XfzOf9P",
        "colab_type": "code",
        "colab": {}
      },
      "source": [
        ""
      ],
      "execution_count": 0,
      "outputs": []
    },
    {
      "cell_type": "code",
      "metadata": {
        "id": "QdS2TNg4Ob2a",
        "colab_type": "code",
        "outputId": "c5bb9518-3a01-4ed4-bb6f-b2ef1fa99994",
        "colab": {
          "base_uri": "https://localhost:8080/",
          "height": 580
        }
      },
      "source": [
        "num_of_samples = []\n",
        " \n",
        "cols = 5\n",
        "num_classes = 10\n",
        " \n",
        "fig, axs = plt.subplots(nrows=num_classes, ncols = cols, figsize=(5, 8))\n",
        "fig.tight_layout()\n",
        "for i in range(cols):\n",
        "    for j in range(num_classes):\n",
        "        x_selected = X_train[y_train == j]\n",
        "        axs[j][i].imshow(x_selected[random.randint(0, len(x_selected - 1)), :, :], cmap=plt.get_cmap(\"gray\"))\n",
        "        axs[j][i].axis(\"off\")\n",
        "        if i == 2:\n",
        "            axs[j][i].set_title(str(j))\n",
        "            num_of_samples.append(len(x_selected))"
      ],
      "execution_count": 0,
      "outputs": [
        {
          "output_type": "display_data",
          "data": {
            "image/png": "[encoded data removed]",
            "text/plain": [
              "<Figure size 360x576 with 50 Axes>"
            ]
          },
          "metadata": {
            "tags": [],
            "needs_background": "light"
          }
        }
      ]
    },
    {
      "cell_type": "code",
      "metadata": {
        "id": "omQOWvJFOgU6",
        "colab_type": "code",
        "outputId": "31dccb7f-81e3-4da0-e32b-697b2c8a71d2",
        "colab": {
          "base_uri": "https://localhost:8080/",
          "height": 312
        }
      },
      "source": [
        "print(num_of_samples)\n",
        "plt.figure(figsize=(12, 4))\n",
        "plt.bar(range(0, num_classes), num_of_samples)\n",
        "plt.title(\"Distribution of the train dataset\")\n",
        "plt.xlabel(\"Class number\")\n",
        "plt.ylabel(\"Number of images\")\n",
        "plt.show()"
      ],
      "execution_count": 0,
      "outputs": [
        {
          "output_type": "stream",
          "text": [
            "[5923, 6742, 5958, 6131, 5842, 5421, 5918, 6265, 5851, 5949]\n"
          ],
          "name": "stdout"
        },
        {
          "output_type": "display_data",
          "data": {
            "image/png": "[encoded data removed]",
            "text/plain": [
              "<Figure size 864x288 with 1 Axes>"
            ]
          },
          "metadata": {
            "tags": [],
            "needs_background": "light"
          }
        }
      ]
    },
    {
      "cell_type": "code",
      "metadata": {
        "id": "171YwZNGOrw4",
        "colab_type": "code",
        "colab": {}
      },
      "source": [
        "X_train = X_train.reshape(60000, 28, 28, 1)\n",
        "X_test = X_test.reshape(10000, 28, 28, 1)\n",
        "\n",
        "\n",
        "y_train = to_categorical(y_train, 10)\n",
        "y_test = to_categorical(y_test, 10)\n",
        " \n",
        "X_train = X_train/255\n",
        "X_test = X_test/255"
      ],
      "execution_count": 0,
      "outputs": []
    },
    {
      "cell_type": "code",
      "metadata": {
        "id": "QxZK70t3PPzj",
        "colab_type": "code",
        "colab": {}
      },
      "source": [
        "#definig the leNet model function\n",
        "def leNet_model():\n",
        "  model = Sequential()\n",
        "  model.add(Conv2D(30, (5, 5), input_shape=(28, 28, 1), activation=\"relu\"))\n",
        "  model.add(MaxPooling2D(pool_size=(2,2)))\n",
        "  model.add(Conv2D(15, (3, 3), activation=\"relu\"))\n",
        "  model.add(MaxPooling2D(pool_size= (2,2)))\n",
        "  model.add(Flatten())\n",
        "  model.add(Dense(500, activation=\"relu\"))\n",
        "  model.add(Dropout(0.5))\n",
        "  model.add(Dense(num_classes, activation=\"softmax\"))\n",
        "  model.compile(Adam(lr=0.01), loss=\"categorical_crossentropy\", metrics=[\"accuracy\"])\n",
        "  return model"
      ],
      "execution_count": 0,
      "outputs": []
    },
    {
      "cell_type": "code",
      "metadata": {
        "id": "DQptbykWFmNd",
        "colab_type": "code",
        "colab": {}
      },
      "source": [
        "model = leNet_model()"
      ],
      "execution_count": 0,
      "outputs": []
    },
    {
      "cell_type": "code",
      "metadata": {
        "id": "6Be1YO-jFpZc",
        "colab_type": "code",
        "outputId": "ccdaa034-d7f5-4fc8-e35c-36788fee77be",
        "colab": {
          "base_uri": "https://localhost:8080/",
          "height": 420
        }
      },
      "source": [
        "model.summary()"
      ],
      "execution_count": 0,
      "outputs": [
        {
          "output_type": "stream",
          "text": [
            "Model: \"sequential_8\"\n",
            "_________________________________________________________________\n",
            "Layer (type)                 Output Shape              Param #   \n",
            "=================================================================\n",
            "conv2d_15 (Conv2D)           (None, 24, 24, 30)        780       \n",
            "_________________________________________________________________\n",
            "max_pooling2d_15 (MaxPooling (None, 12, 12, 30)        0         \n",
            "_________________________________________________________________\n",
            "conv2d_16 (Conv2D)           (None, 10, 10, 15)        4065      \n",
            "_________________________________________________________________\n",
            "max_pooling2d_16 (MaxPooling (None, 5, 5, 15)          0         \n",
            "_________________________________________________________________\n",
            "flatten_8 (Flatten)          (None, 375)               0         \n",
            "_________________________________________________________________\n",
            "dense_14 (Dense)             (None, 500)               188000    \n",
            "_________________________________________________________________\n",
            "dropout_4 (Dropout)          (None, 500)               0         \n",
            "_________________________________________________________________\n",
            "dense_15 (Dense)             (None, 10)                5010      \n",
            "=================================================================\n",
            "Total params: 197,855\n",
            "Trainable params: 197,855\n",
            "Non-trainable params: 0\n",
            "_________________________________________________________________\n"
          ],
          "name": "stdout"
        }
      ]
    },
    {
      "cell_type": "code",
      "metadata": {
        "id": "G3KGOV0fFqih",
        "colab_type": "code",
        "outputId": "717013ea-82a5-444f-e03f-4628debc3f61",
        "colab": {
          "base_uri": "https://localhost:8080/",
          "height": 370
        }
      },
      "source": [
        "history = model.fit(X_train, y_train, epochs=10, validation_split=.1, batch_size=400, shuffle=1, verbose =True)"
      ],
      "execution_count": 0,
      "outputs": [
        {
          "output_type": "stream",
          "text": [
            "Train on 54000 samples, validate on 6000 samples\n",
            "Epoch 1/10\n",
            "54000/54000 [==============================] - 1s 26us/step - loss: 0.2578 - accuracy: 0.9185 - val_loss: 0.0540 - val_accuracy: 0.9850\n",
            "Epoch 2/10\n",
            "54000/54000 [==============================] - 1s 21us/step - loss: 0.0740 - accuracy: 0.9780 - val_loss: 0.0447 - val_accuracy: 0.9860\n",
            "Epoch 3/10\n",
            "54000/54000 [==============================] - 1s 20us/step - loss: 0.0578 - accuracy: 0.9820 - val_loss: 0.0537 - val_accuracy: 0.9865\n",
            "Epoch 4/10\n",
            "54000/54000 [==============================] - 1s 20us/step - loss: 0.0521 - accuracy: 0.9838 - val_loss: 0.0394 - val_accuracy: 0.9893\n",
            "Epoch 5/10\n",
            "54000/54000 [==============================] - 1s 20us/step - loss: 0.0487 - accuracy: 0.9845 - val_loss: 0.0426 - val_accuracy: 0.9880\n",
            "Epoch 6/10\n",
            "54000/54000 [==============================] - 1s 20us/step - loss: 0.0410 - accuracy: 0.9870 - val_loss: 0.0413 - val_accuracy: 0.9883\n",
            "Epoch 7/10\n",
            "54000/54000 [==============================] - 1s 20us/step - loss: 0.0420 - accuracy: 0.9872 - val_loss: 0.0538 - val_accuracy: 0.9868\n",
            "Epoch 8/10\n",
            "54000/54000 [==============================] - 1s 20us/step - loss: 0.0425 - accuracy: 0.9869 - val_loss: 0.0458 - val_accuracy: 0.9885\n",
            "Epoch 9/10\n",
            "54000/54000 [==============================] - 1s 20us/step - loss: 0.0408 - accuracy: 0.9879 - val_loss: 0.0432 - val_accuracy: 0.9893\n",
            "Epoch 10/10\n",
            "54000/54000 [==============================] - 1s 20us/step - loss: 0.0414 - accuracy: 0.9872 - val_loss: 0.0451 - val_accuracy: 0.9885\n"
          ],
          "name": "stdout"
        }
      ]
    },
    {
      "cell_type": "code",
      "metadata": {
        "id": "nnar-yudHX7o",
        "colab_type": "code",
        "outputId": "7a314a44-d6ad-447f-f3ad-5f4b68218b11",
        "colab": {
          "base_uri": "https://localhost:8080/",
          "height": 312
        }
      },
      "source": [
        "plt.plot(history.history[\"loss\"])\n",
        "plt.plot(history.history[\"val_loss\"])\n",
        "plt.legend([\"Loss\",\"Val-Loss\"])\n",
        "plt.xlabel(\"epocs\")\n",
        "plt.title(\"loss\")\n",
        "plt.ylim((0,0.2))"
      ],
      "execution_count": 0,
      "outputs": [
        {
          "output_type": "execute_result",
          "data": {
            "text/plain": [
              "(0.0, 0.2)"
            ]
          },
          "metadata": {
            "tags": []
          },
          "execution_count": 200
        },
        {
          "output_type": "display_data",
          "data": {
            "image/png": "[encoded data removed]",
            "text/plain": [
              "<Figure size 432x288 with 1 Axes>"
            ]
          },
          "metadata": {
            "tags": [],
            "needs_background": "light"
          }
        }
      ]
    },
    {
      "cell_type": "code",
      "metadata": {
        "id": "i_rgwnN_H4pp",
        "colab_type": "code",
        "colab": {}
      },
      "source": [
        "# plt.figure(figsize=(8,8))\n",
        "# plt.plot(history.history[\"accuracy\"])\n",
        "# plt.plot(history.history[\"val_accuracy\"])\n",
        "# plt.legend([\"acc\",\"Val-acc\"])\n",
        "# plt.xlabel(\"epocs\")\n",
        "# plt.title(\"acc\")\n",
        "# plt.ylim((.93,1))"
      ],
      "execution_count": 0,
      "outputs": []
    },
    {
      "cell_type": "code",
      "metadata": {
        "id": "Y5ek4EnsN47U",
        "colab_type": "code",
        "outputId": "a2916a0f-8cb7-4ec6-9e54-4593a087910f",
        "colab": {
          "base_uri": "https://localhost:8080/",
          "height": 530
        }
      },
      "source": [
        "plt.figure(figsize=(8,8))\n",
        "plt.plot(history.history[\"accuracy\"])\n",
        "plt.plot(history.history[\"val_accuracy\"])\n",
        "plt.legend([\"acc\",\"Val-acc\"])\n",
        "plt.xlabel(\"epocs\")\n",
        "plt.title(\"acc\")\n",
        "plt.ylim((.93,1))"
      ],
      "execution_count": 0,
      "outputs": [
        {
          "output_type": "execute_result",
          "data": {
            "text/plain": [
              "(0.93, 1.0)"
            ]
          },
          "metadata": {
            "tags": []
          },
          "execution_count": 202
        },
        {
          "output_type": "display_data",
          "data": {
            "image/png": "[encoded data removed]",
            "text/plain": [
              "<Figure size 576x576 with 1 Axes>"
            ]
          },
          "metadata": {
            "tags": [],
            "needs_background": "light"
          }
        }
      ]
    },
    {
      "cell_type": "code",
      "metadata": {
        "id": "wr3daO66HU6h",
        "colab_type": "code",
        "outputId": "fe8b9a3a-6070-4b87-8fae-267586e3d448",
        "colab": {
          "base_uri": "https://localhost:8080/",
          "height": 286
        }
      },
      "source": [
        "import requests\n",
        "from PIL import Image\n",
        "\n",
        "url = 'https://i.stack.imgur.com/Ds5Rc.png'\n",
        "response = requests.get(url, stream=True)\n",
        "img = Image.open(response.raw)\n",
        "plt.imshow(img)\n",
        "\n",
        "\n",
        "\n"
      ],
      "execution_count": 0,
      "outputs": [
        {
          "output_type": "execute_result",
          "data": {
            "text/plain": [
              "<matplotlib.image.AxesImage at 0x7f08beac24e0>"
            ]
          },
          "metadata": {
            "tags": []
          },
          "execution_count": 203
        },
        {
          "output_type": "display_data",
          "data": {
            "image/png": "[encoded data removed]",
            "text/plain": [
              "<Figure size 432x288 with 1 Axes>"
            ]
          },
          "metadata": {
            "tags": [],
            "needs_background": "light"
          }
        }
      ]
    },
    {
      "cell_type": "code",
      "metadata": {
        "id": "UeoUB2DSHS1m",
        "colab_type": "code",
        "colab": {}
      },
      "source": [
        "import cv2\n",
        "img = np.asarray(img)\n",
        "img = cv2.resize(img, (28, 28))\n"
      ],
      "execution_count": 0,
      "outputs": []
    },
    {
      "cell_type": "code",
      "metadata": {
        "id": "-W2j4-W7LRnR",
        "colab_type": "code",
        "outputId": "765d053a-3b30-4ed9-89bd-7aeee910f855",
        "colab": {
          "base_uri": "https://localhost:8080/",
          "height": 282
        }
      },
      "source": [
        "img = cv2.cvtColor(img, cv2.COLOR_RGB2GRAY)\n",
        "plt.imshow(img, cmap = plt.get_cmap(\"gray\"))"
      ],
      "execution_count": 0,
      "outputs": [
        {
          "output_type": "execute_result",
          "data": {
            "text/plain": [
              "<matplotlib.image.AxesImage at 0x7f085b353a20>"
            ]
          },
          "metadata": {
            "tags": []
          },
          "execution_count": 205
        },
        {
          "output_type": "display_data",
          "data": {
            "image/png": "[encoded data removed]",
            "text/plain": [
              "<Figure size 432x288 with 1 Axes>"
            ]
          },
          "metadata": {
            "tags": [],
            "needs_background": "light"
          }
        }
      ]
    },
    {
      "cell_type": "code",
      "metadata": {
        "id": "3W6tB5LUJ4nK",
        "colab_type": "code",
        "outputId": "5240cc86-d906-489d-ca4e-aba109f590e6",
        "colab": {
          "base_uri": "https://localhost:8080/",
          "height": 282
        }
      },
      "source": [
        "final_image = cv2.bitwise_not(img)\n",
        "plt.imshow(final_image, cmap = plt.get_cmap(\"gray\"))                                                  "
      ],
      "execution_count": 0,
      "outputs": [
        {
          "output_type": "execute_result",
          "data": {
            "text/plain": [
              "<matplotlib.image.AxesImage at 0x7f08beb61a58>"
            ]
          },
          "metadata": {
            "tags": []
          },
          "execution_count": 206
        },
        {
          "output_type": "display_data",
          "data": {
            "image/png": "[encoded data removed]",
            "text/plain": [
              "<Figure size 432x288 with 1 Axes>"
            ]
          },
          "metadata": {
            "tags": [],
            "needs_background": "light"
          }
        }
      ]
    },
    {
      "cell_type": "code",
      "metadata": {
        "id": "GFXaQzdNJ6wR",
        "colab_type": "code",
        "outputId": "67be6659-ea63-4299-bfb4-915a05349af6",
        "colab": {
          "base_uri": "https://localhost:8080/",
          "height": 34
        }
      },
      "source": [
        "final_image = final_image/255\n",
        "final_image = final_image.reshape(1,28, 28, 1)\n",
        "final_image.shape"
      ],
      "execution_count": 0,
      "outputs": [
        {
          "output_type": "execute_result",
          "data": {
            "text/plain": [
              "(1, 28, 28, 1)"
            ]
          },
          "metadata": {
            "tags": []
          },
          "execution_count": 207
        }
      ]
    },
    {
      "cell_type": "code",
      "metadata": {
        "id": "E6Umkdg3J9j5",
        "colab_type": "code",
        "outputId": "1947ae1f-7214-4bf0-f103-bfe64dccbd98",
        "colab": {
          "base_uri": "https://localhost:8080/",
          "height": 34
        }
      },
      "source": [
        "prediction = model.predict_classes(final_image)\n",
        "print(\"prediction is\", str(prediction))"
      ],
      "execution_count": 0,
      "outputs": [
        {
          "output_type": "stream",
          "text": [
            "prediction is [6]\n"
          ],
          "name": "stdout"
        }
      ]
    },
    {
      "cell_type": "code",
      "metadata": {
        "id": "SH3MJg-eL1Ym",
        "colab_type": "code",
        "outputId": "23c30a54-eca1-4e63-9968-85b92dd9cf61",
        "colab": {
          "base_uri": "https://localhost:8080/",
          "height": 67
        }
      },
      "source": [
        "score = model.evaluate(X_test, y_test)\n",
        "print(\"test score : \", score[0])\n",
        "print(\"test accuracy : \", score[1])"
      ],
      "execution_count": 0,
      "outputs": [
        {
          "output_type": "stream",
          "text": [
            "10000/10000 [==============================] - 1s 65us/step\n",
            "test score :  0.044358572140929024\n",
            "test accuracy :  0.9866999983787537\n"
          ],
          "name": "stdout"
        }
      ]
    },
    {
      "cell_type": "code",
      "metadata": {
        "id": "_pRP0aMpUoPI",
        "colab_type": "code",
        "colab": {}
      },
      "source": [
        "layer1 = Model(inputs=model.layers[0].input, outputs= model.layers[0].output)\n",
        "layer2 = Model(inputs=model.layers[0].input, outputs= model.layers[3].output)\n",
        "\n"
      ],
      "execution_count": 0,
      "outputs": []
    },
    {
      "cell_type": "code",
      "metadata": {
        "id": "cdV3nZOGVLXx",
        "colab_type": "code",
        "colab": {}
      },
      "source": [
        "visual_layer1 = layer1.predict(final_image)"
      ],
      "execution_count": 0,
      "outputs": []
    },
    {
      "cell_type": "code",
      "metadata": {
        "id": "D3-X3XpMVPvM",
        "colab_type": "code",
        "colab": {}
      },
      "source": [
        "visual_layer2 = layer2.predict(final_image)"
      ],
      "execution_count": 0,
      "outputs": []
    },
    {
      "cell_type": "code",
      "metadata": {
        "id": "Lw2VCU_TV7g0",
        "colab_type": "code",
        "outputId": "178a8fe1-b117-4bbf-a6ed-d9aebbb9503a",
        "colab": {
          "base_uri": "https://localhost:8080/",
          "height": 50
        }
      },
      "source": [
        "print(visual_layer1.shape)\n",
        "print(visual_layer2.shape)"
      ],
      "execution_count": 0,
      "outputs": [
        {
          "output_type": "stream",
          "text": [
            "(1, 24, 24, 30)\n",
            "(1, 5, 5, 15)\n"
          ],
          "name": "stdout"
        }
      ]
    },
    {
      "cell_type": "code",
      "metadata": {
        "id": "wjW2TcW1WcHt",
        "colab_type": "code",
        "outputId": "7f80e9d8-e2b6-427c-91c8-1093b162d64e",
        "colab": {
          "base_uri": "https://localhost:8080/",
          "height": 357
        }
      },
      "source": [
        "plt.figure(figsize=(10,6))\n",
        "for i in range(30):\n",
        "  plt.subplot(6,5, i+1)\n",
        "  plt.imshow(visual_layer1[0,:, :, i], cmap = plt.get_cmap(\"jet\"))\n",
        "  plt.axis('off')"
      ],
      "execution_count": 0,
      "outputs": [
        {
          "output_type": "display_data",
          "data": {
            "image/png": "[encoded data removed]",
            "text/plain": [
              "<Figure size 720x432 with 30 Axes>"
            ]
          },
          "metadata": {
            "tags": [],
            "needs_background": "light"
          }
        }
      ]
    },
    {
      "cell_type": "code",
      "metadata": {
        "id": "88_53RyJW50v",
        "colab_type": "code",
        "outputId": "4f4a9f87-c6c8-4870-8683-527d6f7d1e4c",
        "colab": {
          "base_uri": "https://localhost:8080/",
          "height": 357
        }
      },
      "source": [
        "plt.figure(figsize=(10,6))\n",
        "for i in range(15):\n",
        "  plt.subplot(3,5, i+1)\n",
        "  plt.imshow(visual_layer2[0,:, :, i], cmap = plt.get_cmap(\"jet\"))\n",
        "  plt.axis('off')"
      ],
      "execution_count": 0,
      "outputs": [
        {
          "output_type": "display_data",
          "data": {
            "image/png": "[encoded data removed]",
            "text/plain": [
              "<Figure size 720x432 with 15 Axes>"
            ]
          },
          "metadata": {
            "tags": [],
            "needs_background": "light"
          }
        }
      ]
    }
  ]
}